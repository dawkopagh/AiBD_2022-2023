{
 "cells": [
  {
   "cell_type": "code",
   "execution_count": 57,
   "metadata": {
    "collapsed": true
   },
   "outputs": [],
   "source": []
  },
  {
   "cell_type": "markdown",
   "source": [
    "Lab 5 - TIER Protocol i Tidy data\n",
    "\n",
    "Dawid Kopeć 405602"
   ],
   "metadata": {
    "collapsed": false
   }
  },
  {
   "cell_type": "markdown",
   "source": [
    "Import potrzebnych modułów do obróbki i prezentacji danych"
   ],
   "metadata": {
    "collapsed": false
   }
  },
  {
   "cell_type": "code",
   "execution_count": 58,
   "outputs": [],
   "source": [
    "import pandas as pd\n",
    "import matplotlib.pyplot as plt\n",
    "import re\n",
    "from copy import deepcopy"
   ],
   "metadata": {
    "collapsed": false,
    "pycharm": {
     "name": "#%%\n"
    }
   }
  },
  {
   "cell_type": "markdown",
   "source": [
    "Odczyt danych z oryginalnego pliku"
   ],
   "metadata": {
    "collapsed": false
   }
  },
  {
   "cell_type": "code",
   "execution_count": 59,
   "outputs": [],
   "source": [
    "df = pd.read_csv('../OriginalData/10_Pomorskie.csv', index_col=0)\n",
    "#df.Marka.hist(bins=10)\n",
    "#df.Marka.hist(bins=?)"
   ],
   "metadata": {
    "collapsed": false,
    "pycharm": {
     "name": "#%%\n"
    }
   }
  },
  {
   "cell_type": "markdown",
   "source": [
    "Usunięcie ze zbioru danych uznanych za niepoprawne - brak zedefiniowanej płci."
   ],
   "metadata": {
    "collapsed": false,
    "pycharm": {
     "name": "#%% md\n"
    }
   }
  },
  {
   "cell_type": "code",
   "execution_count": 60,
   "outputs": [
    {
     "data": {
      "text/plain": "     Dni od zakupu       Marka  Wiek kupującego Płeć kupującego  Ocena\n3               14       Tefal             48.0               K    2.5\n5                5     Samsung             50.0               M    1.5\n6                7  Electrolux             40.0               M    2.0\n7               10       Tefal             32.0               K    3.0\n11               6     Samsung             40.0               M    2.5\n..             ...         ...              ...             ...    ...\n541              6        Beko             41.0               M    2.0\n545              4       Tefal             28.0               K    3.0\n549              7     Samsung             62.0               M    4.0\n550              2       Tefal             37.0               K    4.0\n551             11  Electrolux             43.0               K    3.5\n\n[284 rows x 5 columns]",
      "text/html": "<div>\n<style scoped>\n    .dataframe tbody tr th:only-of-type {\n        vertical-align: middle;\n    }\n\n    .dataframe tbody tr th {\n        vertical-align: top;\n    }\n\n    .dataframe thead th {\n        text-align: right;\n    }\n</style>\n<table border=\"1\" class=\"dataframe\">\n  <thead>\n    <tr style=\"text-align: right;\">\n      <th></th>\n      <th>Dni od zakupu</th>\n      <th>Marka</th>\n      <th>Wiek kupującego</th>\n      <th>Płeć kupującego</th>\n      <th>Ocena</th>\n    </tr>\n  </thead>\n  <tbody>\n    <tr>\n      <th>3</th>\n      <td>14</td>\n      <td>Tefal</td>\n      <td>48.0</td>\n      <td>K</td>\n      <td>2.5</td>\n    </tr>\n    <tr>\n      <th>5</th>\n      <td>5</td>\n      <td>Samsung</td>\n      <td>50.0</td>\n      <td>M</td>\n      <td>1.5</td>\n    </tr>\n    <tr>\n      <th>6</th>\n      <td>7</td>\n      <td>Electrolux</td>\n      <td>40.0</td>\n      <td>M</td>\n      <td>2.0</td>\n    </tr>\n    <tr>\n      <th>7</th>\n      <td>10</td>\n      <td>Tefal</td>\n      <td>32.0</td>\n      <td>K</td>\n      <td>3.0</td>\n    </tr>\n    <tr>\n      <th>11</th>\n      <td>6</td>\n      <td>Samsung</td>\n      <td>40.0</td>\n      <td>M</td>\n      <td>2.5</td>\n    </tr>\n    <tr>\n      <th>...</th>\n      <td>...</td>\n      <td>...</td>\n      <td>...</td>\n      <td>...</td>\n      <td>...</td>\n    </tr>\n    <tr>\n      <th>541</th>\n      <td>6</td>\n      <td>Beko</td>\n      <td>41.0</td>\n      <td>M</td>\n      <td>2.0</td>\n    </tr>\n    <tr>\n      <th>545</th>\n      <td>4</td>\n      <td>Tefal</td>\n      <td>28.0</td>\n      <td>K</td>\n      <td>3.0</td>\n    </tr>\n    <tr>\n      <th>549</th>\n      <td>7</td>\n      <td>Samsung</td>\n      <td>62.0</td>\n      <td>M</td>\n      <td>4.0</td>\n    </tr>\n    <tr>\n      <th>550</th>\n      <td>2</td>\n      <td>Tefal</td>\n      <td>37.0</td>\n      <td>K</td>\n      <td>4.0</td>\n    </tr>\n    <tr>\n      <th>551</th>\n      <td>11</td>\n      <td>Electrolux</td>\n      <td>43.0</td>\n      <td>K</td>\n      <td>3.5</td>\n    </tr>\n  </tbody>\n</table>\n<p>284 rows × 5 columns</p>\n</div>"
     },
     "execution_count": 60,
     "metadata": {},
     "output_type": "execute_result"
    }
   ],
   "source": [
    "df.drop(df.loc[df['Płeć kupującego']=='bd.'].index, inplace=True)\n",
    "df"
   ],
   "metadata": {
    "collapsed": false,
    "pycharm": {
     "name": "#%%\n"
    }
   }
  },
  {
   "cell_type": "markdown",
   "source": [
    "Wykres przedstawiający oceny klientów w przedziałach 0-5 z krokiem 1"
   ],
   "metadata": {
    "collapsed": false
   }
  },
  {
   "cell_type": "code",
   "execution_count": 61,
   "outputs": [
    {
     "name": "stdout",
     "output_type": "stream",
     "text": [
      "C    91\n",
      "B    84\n",
      "D    66\n",
      "A    34\n",
      "E     9\n",
      "Name: grade, dtype: int64\n"
     ]
    },
    {
     "data": {
      "text/plain": "<Figure size 432x288 with 1 Axes>",
      "image/png": "[encoded data removed]"
     },
     "metadata": {
      "needs_background": "light"
     },
     "output_type": "display_data"
    }
   ],
   "source": [
    "df.Ocena.hist(bins=5)\n",
    "plt.title('Oceny klientów')\n",
    "\n",
    "df_grade = deepcopy(df)\n",
    "df_grade.loc[df['Ocena'].between(0, 1, 'left'), 'grade'] = 'E'\n",
    "df_grade.loc[df['Ocena'].between(1, 2, 'left'), 'grade'] = 'D'\n",
    "df_grade.loc[df['Ocena'].between(2, 3, 'left'), 'grade'] = 'C'\n",
    "df_grade.loc[df['Ocena'].between(3, 4, 'left'), 'grade'] = 'B'\n",
    "df_grade.loc[df['Ocena'].between(4, 5, 'both'), 'grade'] = 'A'\n",
    "\n",
    "plt.savefig(\"../Analysis Data/Score_groups.png\")\n",
    "\n",
    "print(df_grade.grade.value_counts())"
   ],
   "metadata": {
    "collapsed": false,
    "pycharm": {
     "name": "#%%\n"
    }
   }
  },
  {
   "cell_type": "markdown",
   "source": [
    "Wykres reprezentujący ocenę w zależności od marki"
   ],
   "metadata": {
    "collapsed": false,
    "pycharm": {
     "name": "#%% md\n"
    }
   }
  },
  {
   "cell_type": "code",
   "execution_count": 67,
   "outputs": [
    {
     "data": {
      "text/plain": "<Figure size 432x288 with 1 Axes>",
      "image/png": "[encoded data removed]"
     },
     "metadata": {
      "needs_background": "light"
     },
     "output_type": "display_data"
    },
    {
     "data": {
      "text/plain": "<Figure size 432x288 with 0 Axes>"
     },
     "metadata": {},
     "output_type": "display_data"
    }
   ],
   "source": [
    "df_brands_by_grade = df[['Ocena', 'Marka']].value_counts().reset_index()\n",
    "df_brands_by_grade.columns = ['Ocena', 'Marka', 'counts']\n",
    "df_brands_by_grade = df_brands_by_grade.sort_values(by='Marka')\n",
    "\n",
    "df_brands_by_grade\n",
    "\n",
    "ax = plt.gca()\n",
    "df_brands_by_grade[df_brands_by_grade['Marka'] == 'Beko'].plot(kind='scatter', x='Ocena', y='counts', color='blue', ax=ax, title='Ocena w zależności od marki.')\n",
    "df_brands_by_grade[df_brands_by_grade['Marka'] == 'Dyson'].plot(kind='scatter', x='Ocena', y='counts', color='red', ax=ax)\n",
    "df_brands_by_grade[df_brands_by_grade['Marka'] == 'Elektrolux'].plot(kind='scatter', x='Ocena', y='counts', color='green', ax=ax)\n",
    "df_brands_by_grade[df_brands_by_grade['Marka'] == 'Samsung'].plot(kind='scatter', x='Ocena', y='counts', color='black', ax=ax)\n",
    "df_brands_by_grade[df_brands_by_grade['Marka'] == 'Tefal'].plot(kind='scatter', x='Ocena', y='counts', color='purple', ax=ax)\n",
    "plt.legend(['Beko', 'Dyson', 'Elektrolux', 'Samsung', 'Tefal'], loc=2)\n",
    "plt.grid()\n",
    "plt.show()\n",
    "plt.savefig(\"../Analysis Data/Score_by_brand.png\")\n"
   ],
   "metadata": {
    "collapsed": false,
    "pycharm": {
     "name": "#%%\n"
    }
   }
  },
  {
   "cell_type": "markdown",
   "source": [
    "Wykres reprezentujący udział liczbowy klientów w zakupie danej marki z uwzględnieniem płci.\n"
   ],
   "metadata": {
    "collapsed": false,
    "pycharm": {
     "name": "#%% md\n"
    }
   }
  },
  {
   "cell_type": "code",
   "execution_count": 68,
   "outputs": [
    {
     "data": {
      "text/plain": "<Figure size 432x288 with 1 Axes>",
      "image/png": "[encoded data removed]"
     },
     "metadata": {
      "needs_background": "light"
     },
     "output_type": "display_data"
    },
    {
     "data": {
      "text/plain": "  Płeć kupującego       Marka  counts\n5               K        Beko      26\n8               M        Beko      24\n6               K       Dyson      24\n9               M       Dyson      15\n2               K  Electrolux      33\n4               M  Electrolux      29\n3               M     Samsung      30\n7               K     Samsung      24\n0               M       Tefal      41\n1               K       Tefal      38",
      "text/html": "<div>\n<style scoped>\n    .dataframe tbody tr th:only-of-type {\n        vertical-align: middle;\n    }\n\n    .dataframe tbody tr th {\n        vertical-align: top;\n    }\n\n    .dataframe thead th {\n        text-align: right;\n    }\n</style>\n<table border=\"1\" class=\"dataframe\">\n  <thead>\n    <tr style=\"text-align: right;\">\n      <th></th>\n      <th>Płeć kupującego</th>\n      <th>Marka</th>\n      <th>counts</th>\n    </tr>\n  </thead>\n  <tbody>\n    <tr>\n      <th>5</th>\n      <td>K</td>\n      <td>Beko</td>\n      <td>26</td>\n    </tr>\n    <tr>\n      <th>8</th>\n      <td>M</td>\n      <td>Beko</td>\n      <td>24</td>\n    </tr>\n    <tr>\n      <th>6</th>\n      <td>K</td>\n      <td>Dyson</td>\n      <td>24</td>\n    </tr>\n    <tr>\n      <th>9</th>\n      <td>M</td>\n      <td>Dyson</td>\n      <td>15</td>\n    </tr>\n    <tr>\n      <th>2</th>\n      <td>K</td>\n      <td>Electrolux</td>\n      <td>33</td>\n    </tr>\n    <tr>\n      <th>4</th>\n      <td>M</td>\n      <td>Electrolux</td>\n      <td>29</td>\n    </tr>\n    <tr>\n      <th>3</th>\n      <td>M</td>\n      <td>Samsung</td>\n      <td>30</td>\n    </tr>\n    <tr>\n      <th>7</th>\n      <td>K</td>\n      <td>Samsung</td>\n      <td>24</td>\n    </tr>\n    <tr>\n      <th>0</th>\n      <td>M</td>\n      <td>Tefal</td>\n      <td>41</td>\n    </tr>\n    <tr>\n      <th>1</th>\n      <td>K</td>\n      <td>Tefal</td>\n      <td>38</td>\n    </tr>\n  </tbody>\n</table>\n</div>"
     },
     "execution_count": 68,
     "metadata": {},
     "output_type": "execute_result"
    },
    {
     "data": {
      "text/plain": "<Figure size 432x288 with 0 Axes>"
     },
     "metadata": {},
     "output_type": "display_data"
    }
   ],
   "source": [
    "df_brands_by_sex = df[['Płeć kupującego', 'Marka']].value_counts().reset_index()\n",
    "df_brands_by_sex.columns = ['Płeć kupującego', 'Marka', 'counts']\n",
    "df_brands_by_sex = df_brands_by_sex.sort_values(by='Marka')\n",
    "\n",
    "ax = plt.gca()\n",
    "df_brands_by_sex[df_brands_by_sex['Płeć kupującego'] == 'M'].plot(kind='bar', x='Marka', y='counts', alpha=0.5, ax=ax, title='Udział płci w ilości zakupionych odkurzaczy danej marki')\n",
    "df_brands_by_sex[df_brands_by_sex['Płeć kupującego'] == 'K'].plot(kind='bar', x='Marka', y='counts', color = 'red', alpha=0.5, ax=ax)\n",
    "plt.legend(['Mężczyźni', 'Kobiety'])\n",
    "plt.grid()\n",
    "plt.show()\n",
    "plt.savefig(\"../Analysis Data/Brand_by_sex.png\")\n",
    "\n",
    "df_brands_by_sex"
   ],
   "metadata": {
    "collapsed": false,
    "pycharm": {
     "name": "#%%\n"
    }
   }
  },
  {
   "cell_type": "markdown",
   "source": [
    "Wykres reprezentujący ilość klientów w poszczególnych grupach wiekowych"
   ],
   "metadata": {
    "collapsed": false,
    "pycharm": {
     "name": "#%% md\n"
    }
   }
  },
  {
   "cell_type": "code",
   "execution_count": 64,
   "outputs": [
    {
     "data": {
      "text/plain": "<Figure size 432x288 with 1 Axes>",
      "image/png": "[encoded data removed]"
     },
     "metadata": {
      "needs_background": "light"
     },
     "output_type": "display_data"
    },
    {
     "data": {
      "text/plain": "<Figure size 432x288 with 0 Axes>"
     },
     "metadata": {},
     "output_type": "display_data"
    }
   ],
   "source": [
    "df_by_age_female = deepcopy(df[df['Płeć kupującego'] == 'K'].groupby(pd.cut(df['Wiek kupującego'], [10,20,30,40,50,60,70,80])).count())\n",
    "df_by_age_female = df_by_age_female.drop(['Dni od zakupu', 'Marka', 'Wiek kupującego', 'Płeć kupującego'], axis=1)\n",
    "df_by_age_female = df_by_age_female.rename(columns={'Ocena' : 'counts'})\n",
    "df_by_age_male = deepcopy(df[df['Płeć kupującego'] == 'M'].groupby(pd.cut(df['Wiek kupującego'], [10,20,30,40,50,60,70,80])).count())\n",
    "df_by_age_male = df_by_age_male.drop(['Dni od zakupu', 'Marka', 'Wiek kupującego', 'Płeć kupującego'], axis=1)\n",
    "df_by_age_male = df_by_age_male.rename(columns={'Ocena' : 'counts'})\n",
    "\n",
    "ax = plt.gca()\n",
    "df_by_age_female.plot(kind='bar', y='counts', alpha=0.5, ax=ax, title='Ilość klientów w danym przedziale wiekowym z podziałem na płeć')\n",
    "df_by_age_male.plot(kind='bar', y='counts', color = 'red', alpha=0.5, ax=ax)\n",
    "plt.legend(['Mężczyźni', 'Kobiety'])\n",
    "\n",
    "plt.grid()\n",
    "plt.show()\n",
    "plt.savefig(\"../Analysis Data/Age_groups.png\")"
   ],
   "metadata": {
    "collapsed": false,
    "pycharm": {
     "name": "#%%\n"
    }
   }
  },
  {
   "cell_type": "markdown",
   "source": [
    "Wykres reprezentujący ilość dni która upłynęła od ostatniego zakupu."
   ],
   "metadata": {
    "collapsed": false,
    "pycharm": {
     "name": "#%% md\n"
    }
   }
  },
  {
   "cell_type": "code",
   "execution_count": 65,
   "outputs": [
    {
     "data": {
      "text/plain": "<Figure size 432x288 with 1 Axes>",
      "image/png": "[encoded data removed]"
     },
     "metadata": {
      "needs_background": "light"
     },
     "output_type": "display_data"
    }
   ],
   "source": [
    "df['Dni od zakupu'].hist(bins=8)\n",
    "plt.title('Ilość dni od zakupu')\n",
    "plt.savefig(\"../Analysis Data/Days_elapsed.png\")"
   ],
   "metadata": {
    "collapsed": false,
    "pycharm": {
     "name": "#%%\n"
    }
   }
  }
 ],
 "metadata": {
  "kernelspec": {
   "display_name": "Python 3",
   "language": "python",
   "name": "python3"
  },
  "language_info": {
   "codemirror_mode": {
    "name": "ipython",
    "version": 2
   },
   "file_extension": ".py",
   "mimetype": "text/x-python",
   "name": "python",
   "nbconvert_exporter": "python",
   "pygments_lexer": "ipython2",
   "version": "2.7.6"
  }
 },
 "nbformat": 4,
 "nbformat_minor": 0
}