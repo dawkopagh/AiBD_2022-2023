{
 "cells": [
  {
   "cell_type": "markdown",
   "metadata": {},
   "source": [
    "<center> # Naiwny klasyfikator bayesowski</center>\n",
    "\n",
    "Celem ćwiczenia jest zapoznanie się z technikami konstrukcji naiwnego klasywikatora bayesowskiego. \n",
    "\n",
    "Ćwiczenie oparte jest o artykuł z [linku](https://www.kaggle.com/prashant111/naive-bayes-classifier-in-python/notebook)"
   ]
  },
  {
   "cell_type": "code",
   "execution_count": 190,
   "metadata": {},
   "outputs": [],
   "source": [
    "import numpy as np\n",
    "import pandas as pd \n",
    "# import matplotlib.pyplot as plt\n",
    "import seaborn as sns \n",
    "from sklearn.model_selection import train_test_split\n",
    "from copy import deepcopy\n",
    "\n"
   ]
  },
  {
   "cell_type": "markdown",
   "metadata": {},
   "source": [
    "Na początku proszę wczytać plik __data.csv__ używając jako separatora ',':"
   ]
  },
  {
   "cell_type": "code",
   "execution_count": 191,
   "metadata": {},
   "outputs": [
    {
     "data": {
      "text/plain": "       age          workclass  fnlwgt    education  education_num  \\\n0       39          State-gov   77516    Bachelors             13   \n1       50   Self-emp-not-inc   83311    Bachelors             13   \n2       38            Private  215646      HS-grad              9   \n3       53            Private  234721         11th              7   \n4       28            Private  338409    Bachelors             13   \n...    ...                ...     ...          ...            ...   \n32556   27            Private  257302   Assoc-acdm             12   \n32557   40            Private  154374      HS-grad              9   \n32558   58            Private  151910      HS-grad              9   \n32559   22            Private  201490      HS-grad              9   \n32560   52       Self-emp-inc  287927      HS-grad              9   \n\n            marital_status          occupation    relationship    race  \\\n0            Never-married        Adm-clerical   Not-in-family   White   \n1       Married-civ-spouse     Exec-managerial         Husband   White   \n2                 Divorced   Handlers-cleaners   Not-in-family   White   \n3       Married-civ-spouse   Handlers-cleaners         Husband   Black   \n4       Married-civ-spouse      Prof-specialty            Wife   Black   \n...                    ...                 ...             ...     ...   \n32556   Married-civ-spouse        Tech-support            Wife   White   \n32557   Married-civ-spouse   Machine-op-inspct         Husband   White   \n32558              Widowed        Adm-clerical       Unmarried   White   \n32559        Never-married        Adm-clerical       Own-child   White   \n32560   Married-civ-spouse     Exec-managerial            Wife   White   \n\n           sex  capital_gain  capital_loss  hours_per_week  native_country  \\\n0         Male          2174             0              40   United-States   \n1         Male             0             0              13   United-States   \n2         Male             0             0              40   United-States   \n3         Male             0             0              40   United-States   \n4       Female             0             0              40            Cuba   \n...        ...           ...           ...             ...             ...   \n32556   Female             0             0              38   United-States   \n32557     Male             0             0              40   United-States   \n32558   Female             0             0              40   United-States   \n32559     Male             0             0              20   United-States   \n32560   Female         15024             0              40   United-States   \n\n       income  \n0       <=50K  \n1       <=50K  \n2       <=50K  \n3       <=50K  \n4       <=50K  \n...       ...  \n32556   <=50K  \n32557    >50K  \n32558   <=50K  \n32559   <=50K  \n32560    >50K  \n\n[32561 rows x 15 columns]",
      "text/html": "<div>\n<style scoped>\n    .dataframe tbody tr th:only-of-type {\n        vertical-align: middle;\n    }\n\n    .dataframe tbody tr th {\n        vertical-align: top;\n    }\n\n    .dataframe thead th {\n        text-align: right;\n    }\n</style>\n<table border=\"1\" class=\"dataframe\">\n  <thead>\n    <tr style=\"text-align: right;\">\n      <th></th>\n      <th>age</th>\n      <th>workclass</th>\n      <th>fnlwgt</th>\n      <th>education</th>\n      <th>education_num</th>\n      <th>marital_status</th>\n      <th>occupation</th>\n      <th>relationship</th>\n      <th>race</th>\n      <th>sex</th>\n      <th>capital_gain</th>\n      <th>capital_loss</th>\n      <th>hours_per_week</th>\n      <th>native_country</th>\n      <th>income</th>\n    </tr>\n  </thead>\n  <tbody>\n    <tr>\n      <th>0</th>\n      <td>39</td>\n      <td>State-gov</td>\n      <td>77516</td>\n      <td>Bachelors</td>\n      <td>13</td>\n      <td>Never-married</td>\n      <td>Adm-clerical</td>\n      <td>Not-in-family</td>\n      <td>White</td>\n      <td>Male</td>\n      <td>2174</td>\n      <td>0</td>\n      <td>40</td>\n      <td>United-States</td>\n      <td>&lt;=50K</td>\n    </tr>\n    <tr>\n      <th>1</th>\n      <td>50</td>\n      <td>Self-emp-not-inc</td>\n      <td>83311</td>\n      <td>Bachelors</td>\n      <td>13</td>\n      <td>Married-civ-spouse</td>\n      <td>Exec-managerial</td>\n      <td>Husband</td>\n      <td>White</td>\n      <td>Male</td>\n      <td>0</td>\n      <td>0</td>\n      <td>13</td>\n      <td>United-States</td>\n      <td>&lt;=50K</td>\n    </tr>\n    <tr>\n      <th>2</th>\n      <td>38</td>\n      <td>Private</td>\n      <td>215646</td>\n      <td>HS-grad</td>\n      <td>9</td>\n      <td>Divorced</td>\n      <td>Handlers-cleaners</td>\n      <td>Not-in-family</td>\n      <td>White</td>\n      <td>Male</td>\n      <td>0</td>\n      <td>0</td>\n      <td>40</td>\n      <td>United-States</td>\n      <td>&lt;=50K</td>\n    </tr>\n    <tr>\n      <th>3</th>\n      <td>53</td>\n      <td>Private</td>\n      <td>234721</td>\n      <td>11th</td>\n      <td>7</td>\n      <td>Married-civ-spouse</td>\n      <td>Handlers-cleaners</td>\n      <td>Husband</td>\n      <td>Black</td>\n      <td>Male</td>\n      <td>0</td>\n      <td>0</td>\n      <td>40</td>\n      <td>United-States</td>\n      <td>&lt;=50K</td>\n    </tr>\n    <tr>\n      <th>4</th>\n      <td>28</td>\n      <td>Private</td>\n      <td>338409</td>\n      <td>Bachelors</td>\n      <td>13</td>\n      <td>Married-civ-spouse</td>\n      <td>Prof-specialty</td>\n      <td>Wife</td>\n      <td>Black</td>\n      <td>Female</td>\n      <td>0</td>\n      <td>0</td>\n      <td>40</td>\n      <td>Cuba</td>\n      <td>&lt;=50K</td>\n    </tr>\n    <tr>\n      <th>...</th>\n      <td>...</td>\n      <td>...</td>\n      <td>...</td>\n      <td>...</td>\n      <td>...</td>\n      <td>...</td>\n      <td>...</td>\n      <td>...</td>\n      <td>...</td>\n      <td>...</td>\n      <td>...</td>\n      <td>...</td>\n      <td>...</td>\n      <td>...</td>\n      <td>...</td>\n    </tr>\n    <tr>\n      <th>32556</th>\n      <td>27</td>\n      <td>Private</td>\n      <td>257302</td>\n      <td>Assoc-acdm</td>\n      <td>12</td>\n      <td>Married-civ-spouse</td>\n      <td>Tech-support</td>\n      <td>Wife</td>\n      <td>White</td>\n      <td>Female</td>\n      <td>0</td>\n      <td>0</td>\n      <td>38</td>\n      <td>United-States</td>\n      <td>&lt;=50K</td>\n    </tr>\n    <tr>\n      <th>32557</th>\n      <td>40</td>\n      <td>Private</td>\n      <td>154374</td>\n      <td>HS-grad</td>\n      <td>9</td>\n      <td>Married-civ-spouse</td>\n      <td>Machine-op-inspct</td>\n      <td>Husband</td>\n      <td>White</td>\n      <td>Male</td>\n      <td>0</td>\n      <td>0</td>\n      <td>40</td>\n      <td>United-States</td>\n      <td>&gt;50K</td>\n    </tr>\n    <tr>\n      <th>32558</th>\n      <td>58</td>\n      <td>Private</td>\n      <td>151910</td>\n      <td>HS-grad</td>\n      <td>9</td>\n      <td>Widowed</td>\n      <td>Adm-clerical</td>\n      <td>Unmarried</td>\n      <td>White</td>\n      <td>Female</td>\n      <td>0</td>\n      <td>0</td>\n      <td>40</td>\n      <td>United-States</td>\n      <td>&lt;=50K</td>\n    </tr>\n    <tr>\n      <th>32559</th>\n      <td>22</td>\n      <td>Private</td>\n      <td>201490</td>\n      <td>HS-grad</td>\n      <td>9</td>\n      <td>Never-married</td>\n      <td>Adm-clerical</td>\n      <td>Own-child</td>\n      <td>White</td>\n      <td>Male</td>\n      <td>0</td>\n      <td>0</td>\n      <td>20</td>\n      <td>United-States</td>\n      <td>&lt;=50K</td>\n    </tr>\n    <tr>\n      <th>32560</th>\n      <td>52</td>\n      <td>Self-emp-inc</td>\n      <td>287927</td>\n      <td>HS-grad</td>\n      <td>9</td>\n      <td>Married-civ-spouse</td>\n      <td>Exec-managerial</td>\n      <td>Wife</td>\n      <td>White</td>\n      <td>Female</td>\n      <td>15024</td>\n      <td>0</td>\n      <td>40</td>\n      <td>United-States</td>\n      <td>&gt;50K</td>\n    </tr>\n  </tbody>\n</table>\n<p>32561 rows × 15 columns</p>\n</div>"
     },
     "execution_count": 191,
     "metadata": {},
     "output_type": "execute_result"
    }
   ],
   "source": [
    "df = pd.read_csv('data.csv', sep=',', na_values=np.NaN)\n",
    "df"
   ]
  },
  {
   "cell_type": "markdown",
   "metadata": {},
   "source": [
    "W następnie sprawdź które z kolumn zawierają dane tekstowe lub liczbowe. W tym celu sprawdź wartość  argumentu *dtype* z odpowiednim warunkiem:"
   ]
  },
  {
   "cell_type": "code",
   "execution_count": 192,
   "metadata": {},
   "outputs": [
    {
     "name": "stdout",
     "output_type": "stream",
     "text": [
      "Dane tektowe zawierają kolumny :\n",
      "\n",
      " ['workclass', 'education', 'marital_status', 'occupation', 'relationship', 'race', 'sex', 'native_country', 'income']\n"
     ]
    }
   ],
   "source": [
    "categorical = [df.dtypes.index[inx] for inx, el in enumerate(df.dtypes) if el != 'int64']\n",
    "print('Dane tektowe zawierają kolumny :\\n\\n', categorical)\n"
   ]
  },
  {
   "cell_type": "markdown",
   "metadata": {},
   "source": [
    "Sprawdź czy dane w kolumnach nie zawierają braków a jeżeli tak uzupełnij je według znanych Ci metod:"
   ]
  },
  {
   "cell_type": "code",
   "execution_count": 193,
   "metadata": {},
   "outputs": [
    {
     "data": {
      "text/plain": "       age          workclass  fnlwgt     education  education_num  \\\n0       39          State-gov   77516     Bachelors             13   \n8       31            Private   45781       Masters             14   \n9       42            Private  159449     Bachelors             13   \n23      43            Private  117037          11th              7   \n32      45            Private  386940     Bachelors             13   \n...    ...                ...     ...           ...            ...   \n32515   66        Federal-gov   47358          10th              6   \n32518   57          Local-gov  110417       HS-grad              9   \n32538   38            Private  139180     Bachelors             13   \n32548   65   Self-emp-not-inc   99359   Prof-school             15   \n32560   52       Self-emp-inc  287927       HS-grad              9   \n\n            marital_status         occupation    relationship    race  \\\n0            Never-married       Adm-clerical   Not-in-family   White   \n8            Never-married     Prof-specialty   Not-in-family   White   \n9       Married-civ-spouse    Exec-managerial         Husband   White   \n23      Married-civ-spouse   Transport-moving         Husband   White   \n32                Divorced    Exec-managerial       Own-child   White   \n...                    ...                ...             ...     ...   \n32515   Married-civ-spouse       Craft-repair         Husband   White   \n32518   Married-civ-spouse       Craft-repair         Husband   White   \n32538             Divorced     Prof-specialty       Unmarried   Black   \n32548        Never-married     Prof-specialty   Not-in-family   White   \n32560   Married-civ-spouse    Exec-managerial            Wife   White   \n\n           sex  capital_gain  capital_loss  hours_per_week  native_country  \\\n0         Male          2174             0              40   United-States   \n8       Female         14084             0              50   United-States   \n9         Male          5178             0              40   United-States   \n23        Male             0          2042              40   United-States   \n32        Male             0          1408              40   United-States   \n...        ...           ...           ...             ...             ...   \n32515     Male          3471             0              40   United-States   \n32518     Male         99999             0              40   United-States   \n32538   Female         15020             0              45   United-States   \n32548     Male          1086             0              60   United-States   \n32560   Female         15024             0              40   United-States   \n\n       income  \n0       <=50K  \n8        >50K  \n9        >50K  \n23      <=50K  \n32      <=50K  \n...       ...  \n32515   <=50K  \n32518    >50K  \n32538    >50K  \n32548   <=50K  \n32560    >50K  \n\n[3965 rows x 15 columns]",
      "text/html": "<div>\n<style scoped>\n    .dataframe tbody tr th:only-of-type {\n        vertical-align: middle;\n    }\n\n    .dataframe tbody tr th {\n        vertical-align: top;\n    }\n\n    .dataframe thead th {\n        text-align: right;\n    }\n</style>\n<table border=\"1\" class=\"dataframe\">\n  <thead>\n    <tr style=\"text-align: right;\">\n      <th></th>\n      <th>age</th>\n      <th>workclass</th>\n      <th>fnlwgt</th>\n      <th>education</th>\n      <th>education_num</th>\n      <th>marital_status</th>\n      <th>occupation</th>\n      <th>relationship</th>\n      <th>race</th>\n      <th>sex</th>\n      <th>capital_gain</th>\n      <th>capital_loss</th>\n      <th>hours_per_week</th>\n      <th>native_country</th>\n      <th>income</th>\n    </tr>\n  </thead>\n  <tbody>\n    <tr>\n      <th>0</th>\n      <td>39</td>\n      <td>State-gov</td>\n      <td>77516</td>\n      <td>Bachelors</td>\n      <td>13</td>\n      <td>Never-married</td>\n      <td>Adm-clerical</td>\n      <td>Not-in-family</td>\n      <td>White</td>\n      <td>Male</td>\n      <td>2174</td>\n      <td>0</td>\n      <td>40</td>\n      <td>United-States</td>\n      <td>&lt;=50K</td>\n    </tr>\n    <tr>\n      <th>8</th>\n      <td>31</td>\n      <td>Private</td>\n      <td>45781</td>\n      <td>Masters</td>\n      <td>14</td>\n      <td>Never-married</td>\n      <td>Prof-specialty</td>\n      <td>Not-in-family</td>\n      <td>White</td>\n      <td>Female</td>\n      <td>14084</td>\n      <td>0</td>\n      <td>50</td>\n      <td>United-States</td>\n      <td>&gt;50K</td>\n    </tr>\n    <tr>\n      <th>9</th>\n      <td>42</td>\n      <td>Private</td>\n      <td>159449</td>\n      <td>Bachelors</td>\n      <td>13</td>\n      <td>Married-civ-spouse</td>\n      <td>Exec-managerial</td>\n      <td>Husband</td>\n      <td>White</td>\n      <td>Male</td>\n      <td>5178</td>\n      <td>0</td>\n      <td>40</td>\n      <td>United-States</td>\n      <td>&gt;50K</td>\n    </tr>\n    <tr>\n      <th>23</th>\n      <td>43</td>\n      <td>Private</td>\n      <td>117037</td>\n      <td>11th</td>\n      <td>7</td>\n      <td>Married-civ-spouse</td>\n      <td>Transport-moving</td>\n      <td>Husband</td>\n      <td>White</td>\n      <td>Male</td>\n      <td>0</td>\n      <td>2042</td>\n      <td>40</td>\n      <td>United-States</td>\n      <td>&lt;=50K</td>\n    </tr>\n    <tr>\n      <th>32</th>\n      <td>45</td>\n      <td>Private</td>\n      <td>386940</td>\n      <td>Bachelors</td>\n      <td>13</td>\n      <td>Divorced</td>\n      <td>Exec-managerial</td>\n      <td>Own-child</td>\n      <td>White</td>\n      <td>Male</td>\n      <td>0</td>\n      <td>1408</td>\n      <td>40</td>\n      <td>United-States</td>\n      <td>&lt;=50K</td>\n    </tr>\n    <tr>\n      <th>...</th>\n      <td>...</td>\n      <td>...</td>\n      <td>...</td>\n      <td>...</td>\n      <td>...</td>\n      <td>...</td>\n      <td>...</td>\n      <td>...</td>\n      <td>...</td>\n      <td>...</td>\n      <td>...</td>\n      <td>...</td>\n      <td>...</td>\n      <td>...</td>\n      <td>...</td>\n    </tr>\n    <tr>\n      <th>32515</th>\n      <td>66</td>\n      <td>Federal-gov</td>\n      <td>47358</td>\n      <td>10th</td>\n      <td>6</td>\n      <td>Married-civ-spouse</td>\n      <td>Craft-repair</td>\n      <td>Husband</td>\n      <td>White</td>\n      <td>Male</td>\n      <td>3471</td>\n      <td>0</td>\n      <td>40</td>\n      <td>United-States</td>\n      <td>&lt;=50K</td>\n    </tr>\n    <tr>\n      <th>32518</th>\n      <td>57</td>\n      <td>Local-gov</td>\n      <td>110417</td>\n      <td>HS-grad</td>\n      <td>9</td>\n      <td>Married-civ-spouse</td>\n      <td>Craft-repair</td>\n      <td>Husband</td>\n      <td>White</td>\n      <td>Male</td>\n      <td>99999</td>\n      <td>0</td>\n      <td>40</td>\n      <td>United-States</td>\n      <td>&gt;50K</td>\n    </tr>\n    <tr>\n      <th>32538</th>\n      <td>38</td>\n      <td>Private</td>\n      <td>139180</td>\n      <td>Bachelors</td>\n      <td>13</td>\n      <td>Divorced</td>\n      <td>Prof-specialty</td>\n      <td>Unmarried</td>\n      <td>Black</td>\n      <td>Female</td>\n      <td>15020</td>\n      <td>0</td>\n      <td>45</td>\n      <td>United-States</td>\n      <td>&gt;50K</td>\n    </tr>\n    <tr>\n      <th>32548</th>\n      <td>65</td>\n      <td>Self-emp-not-inc</td>\n      <td>99359</td>\n      <td>Prof-school</td>\n      <td>15</td>\n      <td>Never-married</td>\n      <td>Prof-specialty</td>\n      <td>Not-in-family</td>\n      <td>White</td>\n      <td>Male</td>\n      <td>1086</td>\n      <td>0</td>\n      <td>60</td>\n      <td>United-States</td>\n      <td>&lt;=50K</td>\n    </tr>\n    <tr>\n      <th>32560</th>\n      <td>52</td>\n      <td>Self-emp-inc</td>\n      <td>287927</td>\n      <td>HS-grad</td>\n      <td>9</td>\n      <td>Married-civ-spouse</td>\n      <td>Exec-managerial</td>\n      <td>Wife</td>\n      <td>White</td>\n      <td>Female</td>\n      <td>15024</td>\n      <td>0</td>\n      <td>40</td>\n      <td>United-States</td>\n      <td>&gt;50K</td>\n    </tr>\n  </tbody>\n</table>\n<p>3965 rows × 15 columns</p>\n</div>"
     },
     "execution_count": 193,
     "metadata": {},
     "output_type": "execute_result"
    }
   ],
   "source": [
    "df = df[(df['capital_gain'] != 0) | (df['capital_loss'] != 0)]\n",
    "df.reset_index(drop=True)\n",
    "df = df.dropna()\n",
    "#df['bin_income'] = df['income'].map({' >50K' : 1,\n",
    "#                                     ' <=50K' : 0})\n",
    "df = df[df['workclass'] != ' ?']\n",
    "df = df[df['native_country'] != ' ?']\n",
    "df\n"
   ]
  },
  {
   "cell_type": "markdown",
   "metadata": {},
   "source": [
    "Na przygotowanych danych przeprowadź proces tworzenia zbiorów uczących i testowych, tak by klasyfikator rozpoznawał do której z grup w kolumnie 'income' należy opisywana osoba\n"
   ]
  },
  {
   "cell_type": "code",
   "execution_count": 194,
   "metadata": {},
   "outputs": [],
   "source": [
    "X = df.drop(['income'], axis=1)\n",
    "y = df['income']\n",
    "\n",
    "X_train, X_test, y_train, y_test = train_test_split(X, y, test_size=0.3, random_state=0)\n"
   ]
  },
  {
   "cell_type": "markdown",
   "metadata": {},
   "source": [
    "Przy pomocy biblioteki [category_encoders](https://contrib.scikit-learn.org/category_encoders/) przeprowadź proces kodowania zmiennych tektowych z pozostałych kategorii na wartości liczbowe:"
   ]
  },
  {
   "cell_type": "code",
   "execution_count": 195,
   "metadata": {},
   "outputs": [
    {
     "name": "stderr",
     "output_type": "stream",
     "text": [
      "C:\\Users\\dkope\\AppData\\Roaming\\Python\\Python39\\site-packages\\category_encoders\\one_hot.py:145: FutureWarning: iteritems is deprecated and will be removed in a future version. Use .items instead.\n",
      "  for cat_name, class_ in values.iteritems():\n",
      "C:\\Users\\dkope\\AppData\\Roaming\\Python\\Python39\\site-packages\\category_encoders\\one_hot.py:145: FutureWarning: iteritems is deprecated and will be removed in a future version. Use .items instead.\n",
      "  for cat_name, class_ in values.iteritems():\n",
      "C:\\Users\\dkope\\AppData\\Roaming\\Python\\Python39\\site-packages\\category_encoders\\one_hot.py:145: FutureWarning: iteritems is deprecated and will be removed in a future version. Use .items instead.\n",
      "  for cat_name, class_ in values.iteritems():\n",
      "C:\\Users\\dkope\\AppData\\Roaming\\Python\\Python39\\site-packages\\category_encoders\\one_hot.py:145: FutureWarning: iteritems is deprecated and will be removed in a future version. Use .items instead.\n",
      "  for cat_name, class_ in values.iteritems():\n",
      "C:\\Users\\dkope\\AppData\\Roaming\\Python\\Python39\\site-packages\\category_encoders\\one_hot.py:145: FutureWarning: iteritems is deprecated and will be removed in a future version. Use .items instead.\n",
      "  for cat_name, class_ in values.iteritems():\n",
      "C:\\Users\\dkope\\AppData\\Roaming\\Python\\Python39\\site-packages\\category_encoders\\one_hot.py:145: FutureWarning: iteritems is deprecated and will be removed in a future version. Use .items instead.\n",
      "  for cat_name, class_ in values.iteritems():\n",
      "C:\\Users\\dkope\\AppData\\Roaming\\Python\\Python39\\site-packages\\category_encoders\\one_hot.py:145: FutureWarning: iteritems is deprecated and will be removed in a future version. Use .items instead.\n",
      "  for cat_name, class_ in values.iteritems():\n",
      "C:\\Users\\dkope\\AppData\\Roaming\\Python\\Python39\\site-packages\\category_encoders\\one_hot.py:145: FutureWarning: iteritems is deprecated and will be removed in a future version. Use .items instead.\n",
      "  for cat_name, class_ in values.iteritems():\n"
     ]
    },
    {
     "data": {
      "text/plain": "       age  workclass_1  workclass_2  workclass_3  workclass_4  workclass_5  \\\n4810    40            1            0            0            0            0   \n24067   38            0            1            0            0            0   \n799     43            1            0            0            0            0   \n11872   34            1            0            0            0            0   \n28738   52            1            0            0            0            0   \n...    ...          ...          ...          ...          ...          ...   \n6760    41            1            0            0            0            0   \n26943   39            0            0            0            0            1   \n13547   54            0            0            0            0            1   \n21489   58            1            0            0            0            0   \n22696   31            1            0            0            0            0   \n\n       workclass_6  workclass_7  fnlwgt  education_1  ...  native_country_27  \\\n4810             0            0  179717            1  ...                  0   \n24067            0            0  478829            0  ...                  0   \n799              0            0  274363            1  ...                  0   \n11872            0            0  212064            0  ...                  0   \n28738            0            0  102828            0  ...                  0   \n...            ...          ...     ...          ...  ...                ...   \n6760             0            0   48087            0  ...                  0   \n26943            0            0  180686            0  ...                  0   \n13547            0            0  185846            0  ...                  0   \n21489            0            0  136841            1  ...                  0   \n22696            0            0  167725            1  ...                  0   \n\n       native_country_28  native_country_29  native_country_30  \\\n4810                   0                  0                  0   \n24067                  0                  0                  0   \n799                    0                  0                  0   \n11872                  0                  0                  0   \n28738                  0                  0                  0   \n...                  ...                ...                ...   \n6760                   0                  0                  0   \n26943                  0                  0                  0   \n13547                  0                  0                  0   \n21489                  0                  0                  0   \n22696                  0                  0                  0   \n\n       native_country_31  native_country_32  native_country_33  \\\n4810                   0                  0                  0   \n24067                  0                  0                  0   \n799                    0                  0                  0   \n11872                  0                  0                  0   \n28738                  0                  0                  0   \n...                  ...                ...                ...   \n6760                   0                  0                  0   \n26943                  0                  0                  0   \n13547                  0                  0                  0   \n21489                  0                  0                  0   \n22696                  0                  0                  0   \n\n       native_country_34  native_country_35  native_country_36  \n4810                   0                  0                  0  \n24067                  0                  0                  0  \n799                    0                  0                  0  \n11872                  0                  0                  0  \n28738                  0                  0                  0  \n...                  ...                ...                ...  \n6760                   0                  0                  0  \n26943                  0                  0                  0  \n13547                  0                  0                  0  \n21489                  0                  0                  0  \n22696                  0                  0                  0  \n\n[2775 rows x 97 columns]",
      "text/html": "<div>\n<style scoped>\n    .dataframe tbody tr th:only-of-type {\n        vertical-align: middle;\n    }\n\n    .dataframe tbody tr th {\n        vertical-align: top;\n    }\n\n    .dataframe thead th {\n        text-align: right;\n    }\n</style>\n<table border=\"1\" class=\"dataframe\">\n  <thead>\n    <tr style=\"text-align: right;\">\n      <th></th>\n      <th>age</th>\n      <th>workclass_1</th>\n      <th>workclass_2</th>\n      <th>workclass_3</th>\n      <th>workclass_4</th>\n      <th>workclass_5</th>\n      <th>workclass_6</th>\n      <th>workclass_7</th>\n      <th>fnlwgt</th>\n      <th>education_1</th>\n      <th>...</th>\n      <th>native_country_27</th>\n      <th>native_country_28</th>\n      <th>native_country_29</th>\n      <th>native_country_30</th>\n      <th>native_country_31</th>\n      <th>native_country_32</th>\n      <th>native_country_33</th>\n      <th>native_country_34</th>\n      <th>native_country_35</th>\n      <th>native_country_36</th>\n    </tr>\n  </thead>\n  <tbody>\n    <tr>\n      <th>4810</th>\n      <td>40</td>\n      <td>1</td>\n      <td>0</td>\n      <td>0</td>\n      <td>0</td>\n      <td>0</td>\n      <td>0</td>\n      <td>0</td>\n      <td>179717</td>\n      <td>1</td>\n      <td>...</td>\n      <td>0</td>\n      <td>0</td>\n      <td>0</td>\n      <td>0</td>\n      <td>0</td>\n      <td>0</td>\n      <td>0</td>\n      <td>0</td>\n      <td>0</td>\n      <td>0</td>\n    </tr>\n    <tr>\n      <th>24067</th>\n      <td>38</td>\n      <td>0</td>\n      <td>1</td>\n      <td>0</td>\n      <td>0</td>\n      <td>0</td>\n      <td>0</td>\n      <td>0</td>\n      <td>478829</td>\n      <td>0</td>\n      <td>...</td>\n      <td>0</td>\n      <td>0</td>\n      <td>0</td>\n      <td>0</td>\n      <td>0</td>\n      <td>0</td>\n      <td>0</td>\n      <td>0</td>\n      <td>0</td>\n      <td>0</td>\n    </tr>\n    <tr>\n      <th>799</th>\n      <td>43</td>\n      <td>1</td>\n      <td>0</td>\n      <td>0</td>\n      <td>0</td>\n      <td>0</td>\n      <td>0</td>\n      <td>0</td>\n      <td>274363</td>\n      <td>1</td>\n      <td>...</td>\n      <td>0</td>\n      <td>0</td>\n      <td>0</td>\n      <td>0</td>\n      <td>0</td>\n      <td>0</td>\n      <td>0</td>\n      <td>0</td>\n      <td>0</td>\n      <td>0</td>\n    </tr>\n    <tr>\n      <th>11872</th>\n      <td>34</td>\n      <td>1</td>\n      <td>0</td>\n      <td>0</td>\n      <td>0</td>\n      <td>0</td>\n      <td>0</td>\n      <td>0</td>\n      <td>212064</td>\n      <td>0</td>\n      <td>...</td>\n      <td>0</td>\n      <td>0</td>\n      <td>0</td>\n      <td>0</td>\n      <td>0</td>\n      <td>0</td>\n      <td>0</td>\n      <td>0</td>\n      <td>0</td>\n      <td>0</td>\n    </tr>\n    <tr>\n      <th>28738</th>\n      <td>52</td>\n      <td>1</td>\n      <td>0</td>\n      <td>0</td>\n      <td>0</td>\n      <td>0</td>\n      <td>0</td>\n      <td>0</td>\n      <td>102828</td>\n      <td>0</td>\n      <td>...</td>\n      <td>0</td>\n      <td>0</td>\n      <td>0</td>\n      <td>0</td>\n      <td>0</td>\n      <td>0</td>\n      <td>0</td>\n      <td>0</td>\n      <td>0</td>\n      <td>0</td>\n    </tr>\n    <tr>\n      <th>...</th>\n      <td>...</td>\n      <td>...</td>\n      <td>...</td>\n      <td>...</td>\n      <td>...</td>\n      <td>...</td>\n      <td>...</td>\n      <td>...</td>\n      <td>...</td>\n      <td>...</td>\n      <td>...</td>\n      <td>...</td>\n      <td>...</td>\n      <td>...</td>\n      <td>...</td>\n      <td>...</td>\n      <td>...</td>\n      <td>...</td>\n      <td>...</td>\n      <td>...</td>\n      <td>...</td>\n    </tr>\n    <tr>\n      <th>6760</th>\n      <td>41</td>\n      <td>1</td>\n      <td>0</td>\n      <td>0</td>\n      <td>0</td>\n      <td>0</td>\n      <td>0</td>\n      <td>0</td>\n      <td>48087</td>\n      <td>0</td>\n      <td>...</td>\n      <td>0</td>\n      <td>0</td>\n      <td>0</td>\n      <td>0</td>\n      <td>0</td>\n      <td>0</td>\n      <td>0</td>\n      <td>0</td>\n      <td>0</td>\n      <td>0</td>\n    </tr>\n    <tr>\n      <th>26943</th>\n      <td>39</td>\n      <td>0</td>\n      <td>0</td>\n      <td>0</td>\n      <td>0</td>\n      <td>1</td>\n      <td>0</td>\n      <td>0</td>\n      <td>180686</td>\n      <td>0</td>\n      <td>...</td>\n      <td>0</td>\n      <td>0</td>\n      <td>0</td>\n      <td>0</td>\n      <td>0</td>\n      <td>0</td>\n      <td>0</td>\n      <td>0</td>\n      <td>0</td>\n      <td>0</td>\n    </tr>\n    <tr>\n      <th>13547</th>\n      <td>54</td>\n      <td>0</td>\n      <td>0</td>\n      <td>0</td>\n      <td>0</td>\n      <td>1</td>\n      <td>0</td>\n      <td>0</td>\n      <td>185846</td>\n      <td>0</td>\n      <td>...</td>\n      <td>0</td>\n      <td>0</td>\n      <td>0</td>\n      <td>0</td>\n      <td>0</td>\n      <td>0</td>\n      <td>0</td>\n      <td>0</td>\n      <td>0</td>\n      <td>0</td>\n    </tr>\n    <tr>\n      <th>21489</th>\n      <td>58</td>\n      <td>1</td>\n      <td>0</td>\n      <td>0</td>\n      <td>0</td>\n      <td>0</td>\n      <td>0</td>\n      <td>0</td>\n      <td>136841</td>\n      <td>1</td>\n      <td>...</td>\n      <td>0</td>\n      <td>0</td>\n      <td>0</td>\n      <td>0</td>\n      <td>0</td>\n      <td>0</td>\n      <td>0</td>\n      <td>0</td>\n      <td>0</td>\n      <td>0</td>\n    </tr>\n    <tr>\n      <th>22696</th>\n      <td>31</td>\n      <td>1</td>\n      <td>0</td>\n      <td>0</td>\n      <td>0</td>\n      <td>0</td>\n      <td>0</td>\n      <td>0</td>\n      <td>167725</td>\n      <td>1</td>\n      <td>...</td>\n      <td>0</td>\n      <td>0</td>\n      <td>0</td>\n      <td>0</td>\n      <td>0</td>\n      <td>0</td>\n      <td>0</td>\n      <td>0</td>\n      <td>0</td>\n      <td>0</td>\n    </tr>\n  </tbody>\n</table>\n<p>2775 rows × 97 columns</p>\n</div>"
     },
     "execution_count": 195,
     "metadata": {},
     "output_type": "execute_result"
    }
   ],
   "source": [
    "import category_encoders as ce\n",
    "\n",
    "encoder = ce.OneHotEncoder(cols=['workclass', 'education', 'marital_status', 'occupation', 'relationship',\n",
    "                                 'race', 'sex', 'native_country'])\n",
    "\n",
    "X_train = encoder.fit_transform(X_train)\n",
    "\n",
    "X_test = encoder.transform(X_test)\n",
    "\n",
    "X_train"
   ]
  },
  {
   "cell_type": "markdown",
   "metadata": {},
   "source": [
    "Używając [GaussianNB](https://scikit-learn.org/stable/modules/generated/sklearn.naive_bayes.GaussianNB.html) przeprowadź klasyfikację daych ze zbiorów testowych i treningowych. Podaj dokładnosć modelu i macierz błędu wraz z jej wykresem i interpretacją."
   ]
  },
  {
   "cell_type": "code",
   "execution_count": 196,
   "metadata": {},
   "outputs": [
    {
     "data": {
      "text/plain": "array([' <=50K', ' <=50K', ' <=50K', ..., ' <=50K', ' <=50K', ' <=50K'],\n      dtype='<U6')"
     },
     "execution_count": 196,
     "metadata": {},
     "output_type": "execute_result"
    }
   ],
   "source": [
    "from sklearn.naive_bayes import GaussianNB\n",
    "\n",
    "# instantiate the model\n",
    "gnb = GaussianNB()\n",
    "\n",
    "# fit the model\n",
    "gnb.fit(X_train, y_train)\n",
    "y_pred = gnb.predict(X_test)\n",
    "\n",
    "y_pred"
   ]
  },
  {
   "cell_type": "code",
   "execution_count": 197,
   "outputs": [
    {
     "name": "stdout",
     "output_type": "stream",
     "text": [
      "Model accuracy score: 0.7109\n",
      "Training set score: 0.7117\n",
      "Test set score: 0.7109\n"
     ]
    },
    {
     "data": {
      "text/plain": "<sklearn.metrics._plot.confusion_matrix.ConfusionMatrixDisplay at 0x1e39596b910>"
     },
     "execution_count": 197,
     "metadata": {},
     "output_type": "execute_result"
    },
    {
     "data": {
      "text/plain": "<Figure size 432x288 with 2 Axes>",
      "image/png": "[encoded data removed]"
     },
     "metadata": {
      "needs_background": "light"
     },
     "output_type": "display_data"
    }
   ],
   "source": [
    "from sklearn.metrics import accuracy_score\n",
    "from sklearn.metrics import confusion_matrix\n",
    "from sklearn import metrics\n",
    "print('Model accuracy score: {0:0.4f}'. format(accuracy_score(y_test, y_pred)))\n",
    "\n",
    "print('Training set score: {:.4f}'.format(gnb.score(X_train, y_train)))\n",
    "\n",
    "print('Test set score: {:.4f}'.format(gnb.score(X_test, y_test)))\n",
    "\n",
    "cm = confusion_matrix(y_test, y_pred)\n",
    "cm_display = metrics.ConfusionMatrixDisplay(confusion_matrix = cm, display_labels = [False, True])\n",
    "cm_display.plot()"
   ],
   "metadata": {
    "collapsed": false,
    "pycharm": {
     "name": "#%%\n"
    }
   }
  },
  {
   "cell_type": "markdown",
   "metadata": {
    "pycharm": {
     "name": "#%% md\n"
    }
   },
   "source": [
    "Przprowadź uczenie klasyfikatora dla kolumn *race* i *native_country*. Podaj dokładnosć modeli i macierze błędu wraz z ich wykresami i interpretacją. Przedstaw wnioski od czego zależą otrzymane wyniki"
   ]
  },
  {
   "cell_type": "markdown",
   "source": [
    "race"
   ],
   "metadata": {
    "collapsed": false,
    "pycharm": {
     "name": "#%% md\n"
    }
   },
   "outputs": [
    {
     "ename": "NameError",
     "evalue": "name 'race' is not defined",
     "output_type": "error",
     "traceback": [
      "\u001B[1;31m---------------------------------------------------------------------------\u001B[0m",
      "\u001B[1;31mNameError\u001B[0m                                 Traceback (most recent call last)",
      "\u001B[1;32m~\\AppData\\Local\\Temp/ipykernel_19668/1291088905.py\u001B[0m in \u001B[0;36m<module>\u001B[1;34m\u001B[0m\n\u001B[1;32m----> 1\u001B[1;33m \u001B[0mrace\u001B[0m\u001B[1;33m\u001B[0m\u001B[1;33m\u001B[0m\u001B[0m\n\u001B[0m\u001B[0;32m      2\u001B[0m \u001B[1;33m\u001B[0m\u001B[0m\n",
      "\u001B[1;31mNameError\u001B[0m: name 'race' is not defined"
     ]
    }
   ],
   "execution_count": 30
  },
  {
   "cell_type": "code",
   "execution_count": 198,
   "outputs": [],
   "source": [
    "X = df.drop(['race'], axis=1)\n",
    "y = df['race']\n",
    "X_train, X_test, y_train, y_test = train_test_split(X, y, test_size=0.3, random_state=0)"
   ],
   "metadata": {
    "collapsed": false,
    "pycharm": {
     "name": "#%%\n"
    }
   }
  },
  {
   "cell_type": "code",
   "execution_count": 199,
   "outputs": [
    {
     "name": "stderr",
     "output_type": "stream",
     "text": [
      "C:\\Users\\dkope\\AppData\\Roaming\\Python\\Python39\\site-packages\\category_encoders\\one_hot.py:145: FutureWarning: iteritems is deprecated and will be removed in a future version. Use .items instead.\n",
      "  for cat_name, class_ in values.iteritems():\n",
      "C:\\Users\\dkope\\AppData\\Roaming\\Python\\Python39\\site-packages\\category_encoders\\one_hot.py:145: FutureWarning: iteritems is deprecated and will be removed in a future version. Use .items instead.\n",
      "  for cat_name, class_ in values.iteritems():\n",
      "C:\\Users\\dkope\\AppData\\Roaming\\Python\\Python39\\site-packages\\category_encoders\\one_hot.py:145: FutureWarning: iteritems is deprecated and will be removed in a future version. Use .items instead.\n",
      "  for cat_name, class_ in values.iteritems():\n",
      "C:\\Users\\dkope\\AppData\\Roaming\\Python\\Python39\\site-packages\\category_encoders\\one_hot.py:145: FutureWarning: iteritems is deprecated and will be removed in a future version. Use .items instead.\n",
      "  for cat_name, class_ in values.iteritems():\n",
      "C:\\Users\\dkope\\AppData\\Roaming\\Python\\Python39\\site-packages\\category_encoders\\one_hot.py:145: FutureWarning: iteritems is deprecated and will be removed in a future version. Use .items instead.\n",
      "  for cat_name, class_ in values.iteritems():\n",
      "C:\\Users\\dkope\\AppData\\Roaming\\Python\\Python39\\site-packages\\category_encoders\\one_hot.py:145: FutureWarning: iteritems is deprecated and will be removed in a future version. Use .items instead.\n",
      "  for cat_name, class_ in values.iteritems():\n",
      "C:\\Users\\dkope\\AppData\\Roaming\\Python\\Python39\\site-packages\\category_encoders\\one_hot.py:145: FutureWarning: iteritems is deprecated and will be removed in a future version. Use .items instead.\n",
      "  for cat_name, class_ in values.iteritems():\n",
      "C:\\Users\\dkope\\AppData\\Roaming\\Python\\Python39\\site-packages\\category_encoders\\one_hot.py:145: FutureWarning: iteritems is deprecated and will be removed in a future version. Use .items instead.\n",
      "  for cat_name, class_ in values.iteritems():\n"
     ]
    }
   ],
   "source": [
    "import category_encoders as ce\n",
    "\n",
    "encoder = ce.OneHotEncoder(cols=['workclass', 'education', 'marital_status', 'occupation', 'relationship',\n",
    "                                 'income', 'sex', 'native_country'])\n",
    "\n",
    "X_train = encoder.fit_transform(X_train)\n",
    "\n",
    "X_test = encoder.transform(X_test)"
   ],
   "metadata": {
    "collapsed": false,
    "pycharm": {
     "name": "#%%\n"
    }
   }
  },
  {
   "cell_type": "code",
   "execution_count": 200,
   "outputs": [
    {
     "data": {
      "text/plain": "array([' White', ' White', ' White', ..., ' White', ' White', ' White'],\n      dtype='<U19')"
     },
     "execution_count": 200,
     "metadata": {},
     "output_type": "execute_result"
    }
   ],
   "source": [
    "from sklearn.naive_bayes import GaussianNB\n",
    "\n",
    "# instantiate the model\n",
    "gnb = GaussianNB()\n",
    "\n",
    "# fit the model\n",
    "gnb.fit(X_train, y_train)\n",
    "y_pred = gnb.predict(X_test)\n",
    "\n",
    "y_pred"
   ],
   "metadata": {
    "collapsed": false,
    "pycharm": {
     "name": "#%%\n"
    }
   }
  },
  {
   "cell_type": "code",
   "execution_count": 201,
   "outputs": [
    {
     "name": "stdout",
     "output_type": "stream",
     "text": [
      "Model accuracy score: 0.8849\n",
      "Training set score: 0.8569\n",
      "Test set score: 0.8849\n"
     ]
    },
    {
     "data": {
      "text/plain": "(array([0, 1, 2, 3, 4]),\n [Text(0, 0, 'Amer-Indian-Eskimo'),\n  Text(1, 0, 'Asian-Pac-Islander'),\n  Text(2, 0, 'Black'),\n  Text(3, 0, 'Other'),\n  Text(4, 0, 'White')])"
     },
     "execution_count": 201,
     "metadata": {},
     "output_type": "execute_result"
    },
    {
     "data": {
      "text/plain": "<Figure size 432x288 with 2 Axes>",
      "image/png": "[encoded data removed]"
     },
     "metadata": {
      "needs_background": "light"
     },
     "output_type": "display_data"
    }
   ],
   "source": [
    "from sklearn.metrics import accuracy_score\n",
    "from sklearn.metrics import confusion_matrix\n",
    "from sklearn import metrics\n",
    "import matplotlib.pyplot as plt\n",
    "print('Model accuracy score: {0:0.4f}'. format(accuracy_score(y_test, y_pred)))\n",
    "\n",
    "print('Training set score: {:.4f}'.format(gnb.score(X_train, y_train)))\n",
    "\n",
    "print('Test set score: {:.4f}'.format(gnb.score(X_test, y_test)))\n",
    "\n",
    "cm = confusion_matrix(y_test, y_pred)\n",
    "cm_display = metrics.ConfusionMatrixDisplay(confusion_matrix = cm, display_labels = ['Amer-Indian-Eskimo', 'Asian-Pac-Islander', 'Black', 'Other', 'White'])\n",
    "cm_display.plot()\n",
    "plt.xticks(rotation=90)"
   ],
   "metadata": {
    "collapsed": false,
    "pycharm": {
     "name": "#%%\n"
    }
   }
  },
  {
   "cell_type": "markdown",
   "source": [
    "native_country"
   ],
   "metadata": {
    "collapsed": false,
    "pycharm": {
     "name": "#%% md\n"
    }
   }
  },
  {
   "cell_type": "code",
   "execution_count": 202,
   "outputs": [],
   "source": [
    "X = df.drop(['native_country'], axis=1)\n",
    "y = df['native_country']\n",
    "\n",
    "X_train, X_test, y_train, y_test = train_test_split(X, y, test_size=0.3, random_state=0)"
   ],
   "metadata": {
    "collapsed": false,
    "pycharm": {
     "name": "#%%\n"
    }
   }
  },
  {
   "cell_type": "code",
   "execution_count": 203,
   "outputs": [
    {
     "name": "stderr",
     "output_type": "stream",
     "text": [
      "C:\\Users\\dkope\\AppData\\Roaming\\Python\\Python39\\site-packages\\category_encoders\\one_hot.py:145: FutureWarning: iteritems is deprecated and will be removed in a future version. Use .items instead.\n",
      "  for cat_name, class_ in values.iteritems():\n",
      "C:\\Users\\dkope\\AppData\\Roaming\\Python\\Python39\\site-packages\\category_encoders\\one_hot.py:145: FutureWarning: iteritems is deprecated and will be removed in a future version. Use .items instead.\n",
      "  for cat_name, class_ in values.iteritems():\n",
      "C:\\Users\\dkope\\AppData\\Roaming\\Python\\Python39\\site-packages\\category_encoders\\one_hot.py:145: FutureWarning: iteritems is deprecated and will be removed in a future version. Use .items instead.\n",
      "  for cat_name, class_ in values.iteritems():\n",
      "C:\\Users\\dkope\\AppData\\Roaming\\Python\\Python39\\site-packages\\category_encoders\\one_hot.py:145: FutureWarning: iteritems is deprecated and will be removed in a future version. Use .items instead.\n",
      "  for cat_name, class_ in values.iteritems():\n",
      "C:\\Users\\dkope\\AppData\\Roaming\\Python\\Python39\\site-packages\\category_encoders\\one_hot.py:145: FutureWarning: iteritems is deprecated and will be removed in a future version. Use .items instead.\n",
      "  for cat_name, class_ in values.iteritems():\n",
      "C:\\Users\\dkope\\AppData\\Roaming\\Python\\Python39\\site-packages\\category_encoders\\one_hot.py:145: FutureWarning: iteritems is deprecated and will be removed in a future version. Use .items instead.\n",
      "  for cat_name, class_ in values.iteritems():\n",
      "C:\\Users\\dkope\\AppData\\Roaming\\Python\\Python39\\site-packages\\category_encoders\\one_hot.py:145: FutureWarning: iteritems is deprecated and will be removed in a future version. Use .items instead.\n",
      "  for cat_name, class_ in values.iteritems():\n",
      "C:\\Users\\dkope\\AppData\\Roaming\\Python\\Python39\\site-packages\\category_encoders\\one_hot.py:145: FutureWarning: iteritems is deprecated and will be removed in a future version. Use .items instead.\n",
      "  for cat_name, class_ in values.iteritems():\n"
     ]
    }
   ],
   "source": [
    "import category_encoders as ce\n",
    "\n",
    "encoder = ce.OneHotEncoder(cols=['workclass', 'education', 'marital_status', 'occupation', 'relationship',\n",
    "                                 'income', 'sex', 'race'])\n",
    "\n",
    "X_train = encoder.fit_transform(X_train)\n",
    "\n",
    "X_test = encoder.transform(X_test)"
   ],
   "metadata": {
    "collapsed": false,
    "pycharm": {
     "name": "#%%\n"
    }
   }
  },
  {
   "cell_type": "code",
   "execution_count": 204,
   "outputs": [
    {
     "data": {
      "text/plain": "array([' United-States', ' Portugal', ' United-States', ...,\n       ' United-States', ' Trinadad&Tobago', ' United-States'],\n      dtype='<U19')"
     },
     "execution_count": 204,
     "metadata": {},
     "output_type": "execute_result"
    }
   ],
   "source": [
    "from sklearn.naive_bayes import GaussianNB\n",
    "\n",
    "# instantiate the model\n",
    "gnb = GaussianNB()\n",
    "\n",
    "# fit the model\n",
    "gnb.fit(X_train, y_train)\n",
    "y_pred = gnb.predict(X_test)\n",
    "\n",
    "y_pred"
   ],
   "metadata": {
    "collapsed": false,
    "pycharm": {
     "name": "#%%\n"
    }
   }
  },
  {
   "cell_type": "code",
   "execution_count": 206,
   "outputs": [
    {
     "name": "stdout",
     "output_type": "stream",
     "text": [
      "Model accuracy score: 0.5849\n",
      "Training set score: 0.5427\n",
      "Test set score: 0.5849\n"
     ]
    },
    {
     "data": {
      "text/plain": "<sklearn.metrics._plot.confusion_matrix.ConfusionMatrixDisplay at 0x1e3921969a0>"
     },
     "execution_count": 206,
     "metadata": {},
     "output_type": "execute_result"
    },
    {
     "data": {
      "text/plain": "<Figure size 432x288 with 2 Axes>",
      "image/png": "[encoded data removed]"
     },
     "metadata": {
      "needs_background": "light"
     },
     "output_type": "display_data"
    }
   ],
   "source": [
    "from sklearn.metrics import accuracy_score\n",
    "from sklearn.metrics import confusion_matrix\n",
    "from sklearn import metrics\n",
    "print('Model accuracy score: {0:0.4f}'. format(accuracy_score(y_test, y_pred)))\n",
    "\n",
    "print('Training set score: {:.4f}'.format(gnb.score(X_train, y_train)))\n",
    "\n",
    "print('Test set score: {:.4f}'.format(gnb.score(X_test, y_test)))\n",
    "\n",
    "cm = confusion_matrix(y_test, y_pred)\n",
    "cm_display = metrics.ConfusionMatrixDisplay(confusion_matrix = cm)\n",
    "cm_display.plot()"
   ],
   "metadata": {
    "collapsed": false,
    "pycharm": {
     "name": "#%%\n"
    }
   }
  },
  {
   "cell_type": "markdown",
   "source": [
    "Nie jestem do końca pewny czy autor pisząc 'Przprowadź uczenie klasyfikatora dla kolumn race i native_country' miał na myśli to co zaimplementowałem. Na podstawie samej\n",
    "kolumny 'race' większość identyfikacja przypisywana jest rasie 'white' która dominuje w zbiorze (~~90%). Wyniki wyświetlone na confusion matrix pokazują, że zdecydowanie próbka ucząca zawierała zbyt mało innych wartości.\n",
    "Wystarczy że model de-facto zakwalifikuje wszystkie rekordy jako 'white' i osiągnie wynik około 90%.\n",
    "\n",
    "Co do rozpoznania dla kolumny native_country, to tutaj mam wątpliwość czy miało to być zrobione właśnie w ten sposób. Występuje zbyt dużo unikalnych\n",
    "wartości dla kolumny native_country przez co confusion matrix jest nieczytelna i zawiera zbyt wiele komórek. Chociaż patrząc po wyniku jaki osiąga ten model, nie jest on totalnie beznadziejny - granice 60% przy tak dużej ilości możliwości a tak relatywnie małej próbce\n",
    "uczącej wydaje się być wynikiem zadowalającym."
   ],
   "metadata": {
    "collapsed": false,
    "pycharm": {
     "name": "#%% md\n"
    }
   },
   "outputs": [
    {
     "ename": "SyntaxError",
     "evalue": "invalid syntax (Temp/ipykernel_19668/251765102.py, line 1)",
     "output_type": "error",
     "traceback": [
      "\u001B[1;36m  File \u001B[1;32m\"C:\\Users\\dkope\\AppData\\Local\\Temp/ipykernel_19668/251765102.py\"\u001B[1;36m, line \u001B[1;32m1\u001B[0m\n\u001B[1;33m    Nie jestem do końca pewny czy\u001B[0m\n\u001B[1;37m        ^\u001B[0m\n\u001B[1;31mSyntaxError\u001B[0m\u001B[1;31m:\u001B[0m invalid syntax\n"
     ]
    }
   ],
   "execution_count": 207
  }
 ],
 "metadata": {
  "interpreter": {
   "hash": "9164a3399a70d355c381b62813f30880ed90ca5a6f321bf0d85375640bda7ee5"
  },
  "kernelspec": {
   "display_name": "Python 3.7.6 64-bit",
   "language": "python",
   "name": "python3"
  },
  "language_info": {
   "codemirror_mode": {
    "name": "ipython",
    "version": 3
   },
   "file_extension": ".py",
   "mimetype": "text/x-python",
   "name": "python",
   "nbconvert_exporter": "python",
   "pygments_lexer": "ipython3",
   "version": "3.7.6"
  },
  "orig_nbformat": 4
 },
 "nbformat": 4,
 "nbformat_minor": 2
}